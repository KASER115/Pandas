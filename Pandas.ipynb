{
 "cells": [
  {
   "cell_type": "markdown",
   "id": "e384c5ce",
   "metadata": {},
   "source": [
    "Here we have all about CRUD in pandas\n",
    "CRUD: Create, Read, Update, Delate\n"
   ]
  },
  {
   "cell_type": "code",
   "execution_count": null,
   "id": "ace9190f",
   "metadata": {},
   "outputs": [],
   "source": [
    "# Importing pandas\n",
    "\n",
    "import pandas as pd"
   ]
  },
  {
   "cell_type": "markdown",
   "id": "3f3f9be1",
   "metadata": {},
   "source": [
    "# 1. Create"
   ]
  },
  {
   "cell_type": "markdown",
   "id": "9fcc9754",
   "metadata": {},
   "source": [
    "#### 1.1 Create a DataFrame from a CSV file"
   ]
  },
  {
   "cell_type": "code",
   "execution_count": null,
   "id": "126ac37b",
   "metadata": {},
   "outputs": [],
   "source": [
    "df = pd.read_csv(\"telco_churn.csv\")"
   ]
  },
  {
   "cell_type": "markdown",
   "id": "2be8c0ad",
   "metadata": {},
   "source": [
    "#### 1.2 Create from a Dictionnary"
   ]
  },
  {
   "cell_type": "code",
   "execution_count": null,
   "id": "b408a0ee",
   "metadata": {},
   "outputs": [],
   "source": [
    "# create a dictionnary\n",
    "tempdict = { 'col1':[1,2,3], 'col2': [4,5,6], 'col3': [7,8,9]}"
   ]
  },
  {
   "cell_type": "code",
   "execution_count": null,
   "id": "2257007f",
   "metadata": {},
   "outputs": [],
   "source": [
    "# Create a dataframe from a dictionnary\n",
    "dictdf= pd.DataFrame.from_dict(tempdict)"
   ]
  },
  {
   "cell_type": "markdown",
   "id": "4dee1071",
   "metadata": {},
   "source": [
    "## 2. Read"
   ]
  },
  {
   "cell_type": "markdown",
   "id": "ba861594",
   "metadata": {},
   "source": [
    "#### 2.1 Show Top and Bottom"
   ]
  },
  {
   "cell_type": "code",
   "execution_count": null,
   "id": "1c40eb03",
   "metadata": {},
   "outputs": [],
   "source": [
    "df.head()"
   ]
  },
  {
   "cell_type": "code",
   "execution_count": null,
   "id": "869b868e",
   "metadata": {},
   "outputs": [],
   "source": [
    "# view bottom 15 rows\n",
    "df.tail()"
   ]
  },
  {
   "cell_type": "code",
   "execution_count": null,
   "id": "c6442832",
   "metadata": {},
   "outputs": [],
   "source": [
    "dictdf.head()"
   ]
  },
  {
   "cell_type": "markdown",
   "id": "6203cefd",
   "metadata": {},
   "source": [
    "#### 2.2 Show Columns and Data Type"
   ]
  },
  {
   "cell_type": "code",
   "execution_count": null,
   "id": "99b1ec0d",
   "metadata": {},
   "outputs": [],
   "source": [
    "df.columns"
   ]
  },
  {
   "cell_type": "code",
   "execution_count": null,
   "id": "c77bd16a",
   "metadata": {},
   "outputs": [],
   "source": [
    "df.dtypes"
   ]
  },
  {
   "cell_type": "markdown",
   "id": "e4974254",
   "metadata": {},
   "source": [
    "#### 2.3 Summary statistics "
   ]
  },
  {
   "cell_type": "code",
   "execution_count": null,
   "id": "4f27e274",
   "metadata": {},
   "outputs": [],
   "source": [
    "# Understanting the data ( for intergers as floats)\n",
    "df.describe()"
   ]
  },
  {
   "cell_type": "code",
   "execution_count": null,
   "id": "c2468302",
   "metadata": {},
   "outputs": [],
   "source": [
    "# statistics for objetcs\n",
    "df.describe(include='object')"
   ]
  },
  {
   "cell_type": "markdown",
   "id": "fd231b22",
   "metadata": {},
   "source": [
    "#### 2.4 Filtering Columns"
   ]
  },
  {
   "cell_type": "code",
   "execution_count": null,
   "id": "65642916",
   "metadata": {},
   "outputs": [],
   "source": [
    "# single column without space in the name\n",
    "df.State"
   ]
  },
  {
   "cell_type": "code",
   "execution_count": null,
   "id": "10985439",
   "metadata": {},
   "outputs": [],
   "source": [
    "# grab a single column with space\n",
    "df['International plan']"
   ]
  },
  {
   "cell_type": "code",
   "execution_count": null,
   "id": "6db2f448",
   "metadata": {},
   "outputs": [],
   "source": [
    "# grab 2 columns\n",
    "df[['State', 'Churn']]"
   ]
  },
  {
   "cell_type": "code",
   "execution_count": null,
   "id": "2ea9a2c1",
   "metadata": {},
   "outputs": [],
   "source": [
    "# Grab unique values\n",
    "df['International plan'].unique()"
   ]
  },
  {
   "cell_type": "markdown",
   "id": "c3c3fd01",
   "metadata": {},
   "source": [
    "#### 2.5 Filtering on Rows"
   ]
  },
  {
   "cell_type": "code",
   "execution_count": null,
   "id": "c8fe15a6",
   "metadata": {},
   "outputs": [],
   "source": [
    "df.head()"
   ]
  },
  {
   "cell_type": "code",
   "execution_count": null,
   "id": "7abcad46",
   "metadata": {},
   "outputs": [],
   "source": [
    "df[df['International plan']=='No']"
   ]
  },
  {
   "cell_type": "code",
   "execution_count": null,
   "id": "8d5ec76a",
   "metadata": {},
   "outputs": [],
   "source": [
    "df[(df['International plan']=='No') & (df['Churn']==False)]"
   ]
  },
  {
   "cell_type": "code",
   "execution_count": null,
   "id": "47aacc11",
   "metadata": {},
   "outputs": [],
   "source": [
    "df[(df['International plan']=='No') & (df['Churn']==True)]"
   ]
  },
  {
   "cell_type": "markdown",
   "id": "a088bd78",
   "metadata": {},
   "source": [
    "#### 2.6 Indexing with iloc"
   ]
  },
  {
   "cell_type": "code",
   "execution_count": null,
   "id": "b0fa5a35",
   "metadata": {},
   "outputs": [],
   "source": [
    "# get a specific row\n",
    "df.iloc[14]"
   ]
  },
  {
   "cell_type": "code",
   "execution_count": null,
   "id": "1b07ddcf",
   "metadata": {},
   "outputs": [],
   "source": [
    "# get a specific number ( row 14 and column 0)\n",
    "df.iloc[14, 0]"
   ]
  },
  {
   "cell_type": "code",
   "execution_count": null,
   "id": "e188581e",
   "metadata": {},
   "outputs": [],
   "source": [
    "# 14 row and last column\n",
    "df.iloc[14, -1]"
   ]
  },
  {
   "cell_type": "code",
   "execution_count": null,
   "id": "32b3491e",
   "metadata": {},
   "outputs": [],
   "source": [
    "# slicing row 22 to raw 33 excluded\n",
    "df.iloc[22:33]"
   ]
  },
  {
   "cell_type": "markdown",
   "id": "d523eafc",
   "metadata": {},
   "source": [
    "#### 2.7 Indexing with loc"
   ]
  },
  {
   "cell_type": "code",
   "execution_count": null,
   "id": "b9eebabb",
   "metadata": {},
   "outputs": [],
   "source": [
    "# set State as index for our dataset\n",
    "state = df.copy()\n",
    "state.set_index('State', inplace=True)"
   ]
  },
  {
   "cell_type": "code",
   "execution_count": null,
   "id": "0f1a864a",
   "metadata": {},
   "outputs": [],
   "source": [
    "state.head()"
   ]
  },
  {
   "cell_type": "code",
   "execution_count": null,
   "id": "84f4fe55",
   "metadata": {},
   "outputs": [],
   "source": [
    "state.loc['OH']"
   ]
  },
  {
   "cell_type": "markdown",
   "id": "401e9a2c",
   "metadata": {},
   "source": [
    "## 3. Update"
   ]
  },
  {
   "cell_type": "markdown",
   "id": "21c79c39",
   "metadata": {},
   "source": [
    "#### 3.1 Dropping Rows"
   ]
  },
  {
   "cell_type": "code",
   "execution_count": null,
   "id": "5a34da4d",
   "metadata": {},
   "outputs": [],
   "source": [
    "# Show the missing values\n",
    "df.isnull().sum()"
   ]
  },
  {
   "cell_type": "code",
   "execution_count": null,
   "id": "7ed89b21",
   "metadata": {},
   "outputs": [],
   "source": [
    "# Drop all rows with missing values\n",
    "df.dropna(inplace=True)"
   ]
  },
  {
   "cell_type": "code",
   "execution_count": null,
   "id": "1a806552",
   "metadata": {},
   "outputs": [],
   "source": [
    "# 0 missing values\n",
    "df.isnull().sum()"
   ]
  },
  {
   "cell_type": "markdown",
   "id": "bbd7c089",
   "metadata": {},
   "source": [
    "#### 3.2 Dropping Columns"
   ]
  },
  {
   "cell_type": "code",
   "execution_count": null,
   "id": "778b2b66",
   "metadata": {},
   "outputs": [],
   "source": [
    "# drop Area code column\n",
    "df.drop(\"Area code\", axis=1)"
   ]
  },
  {
   "cell_type": "markdown",
   "id": "42d9953f",
   "metadata": {},
   "source": [
    "#### 3.3 Creating Calculated Columns"
   ]
  },
  {
   "cell_type": "code",
   "execution_count": null,
   "id": "eaa3d7e2",
   "metadata": {},
   "outputs": [],
   "source": [
    "df['New column']= df['Total night minutes']+df['Total intl minutes']"
   ]
  },
  {
   "cell_type": "code",
   "execution_count": null,
   "id": "cdeb49d3",
   "metadata": {},
   "outputs": [],
   "source": [
    "df.head()"
   ]
  },
  {
   "cell_type": "markdown",
   "id": "f3b01e69",
   "metadata": {},
   "source": [
    "#### 3.4 Unpdating an Entire Column"
   ]
  },
  {
   "cell_type": "code",
   "execution_count": null,
   "id": "af95da45",
   "metadata": {},
   "outputs": [],
   "source": [
    "df['New column']=100"
   ]
  },
  {
   "cell_type": "code",
   "execution_count": null,
   "id": "f108bc00",
   "metadata": {},
   "outputs": [],
   "source": [
    "df.head()"
   ]
  },
  {
   "cell_type": "markdown",
   "id": "f6a4a895",
   "metadata": {},
   "source": [
    "#### 3.5 Unpdating a single value"
   ]
  },
  {
   "cell_type": "code",
   "execution_count": null,
   "id": "815bc42c",
   "metadata": {},
   "outputs": [],
   "source": [
    "df.iloc[0,-1]=15"
   ]
  },
  {
   "cell_type": "code",
   "execution_count": null,
   "id": "0fa872e6",
   "metadata": {},
   "outputs": [],
   "source": [
    "df.head()"
   ]
  },
  {
   "cell_type": "markdown",
   "id": "f05abfcb",
   "metadata": {},
   "source": [
    "#### 3.6 Condition based on Updating using Apply method"
   ]
  },
  {
   "cell_type": "code",
   "execution_count": null,
   "id": "c8b0cabe",
   "metadata": {},
   "outputs": [],
   "source": [
    "df['Churn Binary']= df['Churn'].apply(lambda x: 1 if x ==True else 0)"
   ]
  },
  {
   "cell_type": "code",
   "execution_count": null,
   "id": "8c09841c",
   "metadata": {},
   "outputs": [],
   "source": [
    "df[df['Churn']==True].head()"
   ]
  },
  {
   "cell_type": "markdown",
   "id": "49da2e97",
   "metadata": {},
   "source": [
    "## 4. Delete/Output"
   ]
  },
  {
   "cell_type": "markdown",
   "id": "a49822b7",
   "metadata": {},
   "source": [
    "#### 4.1 Output to CSV"
   ]
  },
  {
   "cell_type": "code",
   "execution_count": null,
   "id": "cf8acf9b",
   "metadata": {},
   "outputs": [],
   "source": [
    "df.to_csv('output.csv')"
   ]
  },
  {
   "cell_type": "markdown",
   "id": "aa98b539",
   "metadata": {},
   "source": [
    "#### 4.2 Output to json"
   ]
  },
  {
   "cell_type": "code",
   "execution_count": null,
   "id": "48482e0c",
   "metadata": {},
   "outputs": [],
   "source": [
    "df.to_json('ourput.json')"
   ]
  },
  {
   "cell_type": "markdown",
   "id": "276a1432",
   "metadata": {},
   "source": [
    "#### 4.3 Output to html"
   ]
  },
  {
   "cell_type": "code",
   "execution_count": null,
   "id": "d3fe09b1",
   "metadata": {},
   "outputs": [],
   "source": [
    "df.to_html('output.html')"
   ]
  },
  {
   "cell_type": "markdown",
   "id": "d0eff491",
   "metadata": {},
   "source": [
    "#### 4.4 Delete"
   ]
  },
  {
   "cell_type": "code",
   "execution_count": null,
   "id": "5cc08f4a",
   "metadata": {},
   "outputs": [],
   "source": [
    "# del df"
   ]
  }
 ],
 "metadata": {
  "kernelspec": {
   "display_name": "Python 3 (ipykernel)",
   "language": "python",
   "name": "python3"
  },
  "language_info": {
   "codemirror_mode": {
    "name": "ipython",
    "version": 3
   },
   "file_extension": ".py",
   "mimetype": "text/x-python",
   "name": "python",
   "nbconvert_exporter": "python",
   "pygments_lexer": "ipython3",
   "version": "3.9.7"
  }
 },
 "nbformat": 4,
 "nbformat_minor": 5
}
